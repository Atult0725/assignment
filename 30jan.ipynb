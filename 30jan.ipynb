{
 "cells": [
  {
   "cell_type": "code",
   "execution_count": 1,
   "id": "aa8fcd90-4ed3-4462-8329-62fa4c280c4f",
   "metadata": {},
   "outputs": [
    {
     "name": "stdin",
     "output_type": "stream",
     "text": [
      "Enter your percentage: 83\n"
     ]
    },
    {
     "name": "stdout",
     "output_type": "stream",
     "text": [
      "B\n"
     ]
    }
   ],
   "source": [
    "'''1.write a programme to accept percentef from the user and display the grade accordig to the following crtiteria-\n",
    "<90 A \n",
    ">80 and <=90 B \n",
    ">=60 and <=80 C\n",
    "below 60 D\n",
    "'''\n",
    "def grade(percentage):\n",
    "    if percentage>90:\n",
    "        return \"A\"\n",
    "    \n",
    "    elif percentage>80 and percentage<=90:\n",
    "        return \"B\"\n",
    "    \n",
    "    elif percentage>=60 and percentage<=60:\n",
    "        return \"C\"\n",
    "    else:\n",
    "        return \"D\"\n",
    "percentage=int(input(\"Enter your percentage:\"))\n",
    "g=grade(percentage)\n",
    "print(g)"
   ]
  },
  {
   "cell_type": "code",
   "execution_count": null,
   "id": "968dadd1-335b-40f3-992d-534645d31494",
   "metadata": {},
   "outputs": [],
   "source": [
    "\n",
    "'''2.write a programme to accept the cost price of bike and display the road tax to be paid according to the following criteria\n",
    "tax        cost price\n",
    "15%      >100000\n",
    "10%      >50000 and <=10000\n",
    "5%       >=50000          \n",
    "\n",
    "'''\n",
    "\n",
    "\n",
    "def road_tax(price):\n",
    "    if price>100000:\n",
    "        tax=15/100*price\n",
    "        return tax\n",
    "    elif price>50000 and price<=100000:\n",
    "        tax=10/100*price\n",
    "        return tax\n",
    "    elif price>=50000:\n",
    "        tax=5/100*price\n",
    "        return tax\n",
    "price=int(input('Enter price of your bike:'))\n",
    "print(road_tax(price))\n"
   ]
  },
  {
   "cell_type": "code",
   "execution_count": null,
   "id": "69bac53c-e5cd-4529-abbd-f3971aa9289f",
   "metadata": {},
   "outputs": [],
   "source": [
    "\n",
    "'''3.Accept any city from the user and display Monument of that city--\n",
    "City            Monument \n",
    "Delhi           Redfort\n",
    "Agra            Taj mahal\n",
    "Jaipur          Tajmahal\n",
    "'''\n",
    "city=input(\"Enter a city name:\")\n",
    "def monument(city):\n",
    "    if city.lower()=='delhi':\n",
    "        return 'Redfort'\n",
    "    elif city.lower()=='agra':\n",
    "        return 'Tajmahal'\n",
    "    elif city.lower()=='jaipur':\n",
    "        return 'Tajmahal'\n",
    "print(monument(city))"
   ]
  },
  {
   "cell_type": "code",
   "execution_count": null,
   "id": "ab597341-5de1-4024-af75-32157712a3df",
   "metadata": {},
   "outputs": [],
   "source": [
    "\n",
    "'''4.check how many time a givan number can be diveded by 3 it is less than or equal to 10'''\n",
    "num=int(input(\"Enter a number:\"))\n",
    "count=0\n",
    "if num>1:\n",
    "    for i in range(2,num):\n",
    "        if  i%3==0:\n",
    "            count+=1\n",
    "\n",
    "elif num==1:\n",
    "    count+=1\n",
    "    \n",
    "if count<=10:\n",
    "    print(\"Divisible number count is less than or equal to 10 so total count is \",count)\n",
    "else:\n",
    "    print(count)"
   ]
  },
  {
   "cell_type": "code",
   "execution_count": null,
   "id": "7731f782-dfa6-44fc-8361-d3b2f35b6736",
   "metadata": {},
   "outputs": [],
   "source": [
    "\"\"\"5.why and when to use while loop in python give a detailed description with example\n",
    "Ans- Python while loop is used to run a block code until a certain condition is met.\n",
    "while condition:\n",
    "    # body of while loop\n",
    "Here,\n",
    "\n",
    "1.A while loop evaluates the condition\n",
    "2.If the condition evaluates to True, the code inside the while loop is executed.\n",
    "3.condition is evaluated again.\n",
    "4.This process continues until the condition is False.\n",
    "5.When condition evaluates to False, the loop stops.\n",
    "ex.\n",
    "\n",
    "counter = 0\n",
    "\n",
    "while counter < 3:\n",
    "    print('Inside loop')\n",
    "    counter = counter + 1\n",
    "else:\n",
    "    print('Inside else'\n",
    "\n",
    "\"\"\"\n"
   ]
  },
  {
   "cell_type": "code",
   "execution_count": null,
   "id": "98d32bf7-1f29-4f3f-a16c-59dc78a1ca7d",
   "metadata": {},
   "outputs": [],
   "source": [
    "'''Q6.Use nasted while loop to  three diffrent pattern'''\n",
    "n = int(input('Enter number of rows : '))\n",
    " \n",
    "i = 1\n",
    "while i <= n :\n",
    "    j = 1\n",
    "    while j <= i:\n",
    "        print(\"*\", end = \" \")\n",
    "        j += 1\n",
    "    print()\n",
    "    i += 1\n",
    "\n",
    "\n",
    "n = int(input('Enter number of rows : '))\n",
    " \n",
    "i = 1\n",
    "while i <= n :\n",
    "    j = n\n",
    "    while j >= i:\n",
    "        print(\"*\", end = \" \")\n",
    "        j -= 1\n",
    "    print()\n",
    "    i += 1\n",
    "\n",
    "n = int(input('Enter number of rows : '))\n",
    " \n",
    "k = 1\n",
    "i = 1\n",
    "while i <= n :\n",
    "    j = 1\n",
    "    while j <= i:\n",
    "        print(\"{:3d}\".format(k), end = \" \")\n",
    "        j += 1\n",
    "        k += 1\n",
    "    print()\n",
    "    i += 1"
   ]
  },
  {
   "cell_type": "code",
   "execution_count": null,
   "id": "2a3a9d4c-afdd-4695-b824-5718a79cc4fa",
   "metadata": {},
   "outputs": [],
   "source": [
    "'''7.reverse a while loop to display numbers from 10 to 1'''\n",
    "n=10\n",
    "while n>=1:\n",
    "    print(n)\n",
    "    n-=1\n"
   ]
  },
  {
   "cell_type": "code",
   "execution_count": null,
   "id": "b113dd02-2207-48f5-a9c8-bd895318735b",
   "metadata": {},
   "outputs": [],
   "source": [
    "'''8.reverse a while loop to display numbers from 10 to 1'''\n",
    "n=10\n",
    "while n>=1:\n",
    "    print(n)\n",
    "    n-=1\n"
   ]
  }
 ],
 "metadata": {
  "kernelspec": {
   "display_name": "Python 3 (ipykernel)",
   "language": "python",
   "name": "python3"
  },
  "language_info": {
   "codemirror_mode": {
    "name": "ipython",
    "version": 3
   },
   "file_extension": ".py",
   "mimetype": "text/x-python",
   "name": "python",
   "nbconvert_exporter": "python",
   "pygments_lexer": "ipython3",
   "version": "3.10.8"
  }
 },
 "nbformat": 4,
 "nbformat_minor": 5
}
