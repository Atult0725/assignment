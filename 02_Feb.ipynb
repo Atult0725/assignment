{
 "cells": [
  {
   "cell_type": "code",
   "execution_count": null,
   "id": "48717aee-f38b-4da3-b6ff-33331cbfd265",
   "metadata": {},
   "outputs": [
    {
     "name": "stdin",
     "output_type": "stream",
     "text": [
      "Enter a number:  3\n",
      "Enter a number:  0\n"
     ]
    },
    {
     "name": "stdout",
     "output_type": "stream",
     "text": [
      "total = 0\n",
      "2\n",
      "4\n",
      "6\n",
      "7\n",
      "8\n",
      "9\n",
      "10\n"
     ]
    }
   ],
   "source": [
    "\"\"\"Q1. Explain with an example each when to use a for loop and a while loop.\n",
    "\"\"\"\n",
    "\n",
    "'''Python while loop is used to run a block code until a certain condition is met.When the number of iterations is unknown, the 'while' loop is used.\n",
    "'''\n",
    "\n",
    "total = 0\n",
    "\n",
    "number = int(input('Enter a number: '))\n",
    "\n",
    "# add numbers until number is zero\n",
    "# program to calculate the sum of numbers\n",
    "# until the user enters zero\n",
    "\n",
    "total = 0\n",
    "\n",
    "number = int(input('Enter a number: '))\n",
    "\n",
    "# add numbers until number is zero\n",
    "while number != 0:\n",
    "    total += number    # total = total + number\n",
    "    \n",
    "    # take integer input again\n",
    "    number = int(input('Enter a number: '))\n",
    "    \n",
    "\n",
    "print('total =', total)\n",
    "\n",
    "#for loop example--\n",
    "'''The 'for' loop was only used when the number of iterations was already known. for loops to loop once over list data.'''\n",
    "l=[2,4,6,7,8,9,10]\n",
    "for i in l:\n",
    "    print(i)"
   ]
  },
  {
   "cell_type": "code",
   "execution_count": null,
   "id": "fdaeba65-ee00-4743-a855-ac9543329405",
   "metadata": {},
   "outputs": [
    {
     "name": "stdout",
     "output_type": "stream",
     "text": [
      "1\n",
      "2\n",
      "3\n",
      "4\n",
      "5\n",
      "6\n",
      "7\n",
      "8\n",
      "9\n",
      "10\n",
      "\n",
      "1\n",
      "2\n",
      "3\n",
      "4\n",
      "5\n",
      "6\n",
      "7\n",
      "8\n",
      "9\n",
      "10\n"
     ]
    }
   ],
   "source": [
    "'''2.Write a python program to print the sum and product of the first 10 natural numbers using for\n",
    "and while loop'''\n",
    "n=1\n",
    "while n<=10:\n",
    "    print(n)\n",
    "    n+=1\n",
    "n=10\n",
    "print()\n",
    "for i in range(1,n+1):\n",
    "    print(i)\n",
    "\n"
   ]
  },
  {
   "cell_type": "code",
   "execution_count": null,
   "id": "2012143d-5d4b-4b1f-98d6-1b243c09a1d2",
   "metadata": {},
   "outputs": [],
   "source": [
    "\"\"\"Q3. Create a python program to compute the electricity bill for a household.\n",
    "The per-unit charges in rupees are as follows: For the first 100 units, the user will be charged Rs. 4.5 per\n",
    "unit, for the next 100 units, the user will be charged Rs. 6 per unit, and for the next 100 units, the user will\n",
    "be charged Rs. 10 per unit, After 300 units and above the user will be charged Rs. 20 per unit.\n",
    "\n",
    "\"\"\"\n",
    "\n",
    "unit = int(input(\"Enter your unit: \"))\n",
    "if unit <= 100:\n",
    "    bill = unit * 4.50\n",
    "elif unit >= 101 and unit <= 200:\n",
    "    bill = 450 + ((unit - 100) * 6.0)\n",
    "\n",
    "elif unit >200 and unit <= 300:\n",
    "    bill = 450 + 600 + ((unit - 200) * 10)\n",
    "else:\n",
    "    bill = 450 + 600 +1000 +((unit - 300) * 20)\n",
    "print(\"Bill Per Unit:\",bill)\n"
   ]
  },
  {
   "cell_type": "code",
   "execution_count": null,
   "id": "f9746a8b-9198-4b4f-859e-c61f71797fbb",
   "metadata": {},
   "outputs": [],
   "source": [
    "\"\"\"Q4. Create a list of numbers from 1 to 100. Use for loop and while loop to calculate the cube of each\n",
    "number and if the cube of that number is divisible by 4 or 5 then append that number in a list and print\n",
    "that list.\n",
    "\n",
    "\"\"\"\n",
    "l=[i for i in range(1,101)]\n",
    "cube_divisiblity=[i*i*i for i in range(1,100) if (i*i*i)%4==0 or (i*i*i)%5==0]\n",
    "print(cube_divisiblity)\n"
   ]
  },
  {
   "cell_type": "code",
   "execution_count": null,
   "id": "09adfcd2-85e9-42b2-89f3-feba62761927",
   "metadata": {},
   "outputs": [],
   "source": [
    "'''Q5. Write a program to filter count vowels in the below-given string.\n",
    "\n",
    "string = \"I want to become a data scientist\"'''\n",
    "\n",
    "string = \"I want to become a data scientist\"\n",
    "vowel=['a','e','i','o','u','A','E','I','O','U']\n",
    "count=0\n",
    "for i in string:\n",
    "    if i in vowel:\n",
    "        count+=1\n",
    "print(count)\n",
    "\n"
   ]
  }
 ],
 "metadata": {
  "kernelspec": {
   "display_name": "Python 3 (ipykernel)",
   "language": "python",
   "name": "python3"
  },
  "language_info": {
   "codemirror_mode": {
    "name": "ipython",
    "version": 3
   },
   "file_extension": ".py",
   "mimetype": "text/x-python",
   "name": "python",
   "nbconvert_exporter": "python",
   "pygments_lexer": "ipython3",
   "version": "3.10.8"
  }
 },
 "nbformat": 4,
 "nbformat_minor": 5
}
