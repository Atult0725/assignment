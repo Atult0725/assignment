{
 "cells": [
  {
   "cell_type": "code",
   "execution_count": 1,
   "id": "0910fe30-fbff-442f-aed8-2d5ae88401ca",
   "metadata": {},
   "outputs": [
    {
     "data": {
      "text/plain": [
       "\"Ans-\\nclass-->A class is considered as a blueprint of objects. We can think of the class as a sketch (prototype) of a house. It contains all the details about the floors, doors, windows, etc. Based on these descriptions we build the house. House is the object.\\n\\nSince many houses can be made from the same description, we can create many objects from a class.\\n\\n\\nWe use the class keyword to create a class in Python. For example,\\n\\nclass ClassName:\\n    # class definition\\n    \\nWe use the class keyword to create a class in Python. For example,\\n\\nclass ClassName:\\n    # class definition \\nPython Objects-\\nAn object is called an instance of a class. For example, suppose Bike is a class then we can create objects like bike1, bike2, etc from the class.\\n\\nHere's the syntax to create an object.\\n\\nobjectName = ClassName()\\n\\n\""
      ]
     },
     "execution_count": 1,
     "metadata": {},
     "output_type": "execute_result"
    }
   ],
   "source": [
    "\"\"\"Q1. Explain Class and Object with respect to Object-Oriented Programming. Give a suitable example.\"\"\"\n",
    "\n",
    "\"\"\"Ans-\n",
    "class-->A class is considered as a blueprint of objects. We can think of the class as a sketch (prototype) of a house. It contains all the details about the floors, doors, windows, etc. Based on these descriptions we build the house. House is the object.\n",
    "\n",
    "Since many houses can be made from the same description, we can create many objects from a class.\n",
    "\n",
    "\n",
    "We use the class keyword to create a class in Python. For example,\n",
    "\n",
    "class ClassName:\n",
    "    # class definition\n",
    "    \n",
    "We use the class keyword to create a class in Python. For example,\n",
    "\n",
    "class ClassName:\n",
    "    # class definition \n",
    "Python Objects-\n",
    "An object is called an instance of a class. For example, suppose Bike is a class then we can create objects like bike1, bike2, etc from the class.\n",
    "\n",
    "Here's the syntax to create an object.\n",
    "\n",
    "objectName = ClassName()\n",
    "\n",
    "\"\"\""
   ]
  },
  {
   "cell_type": "code",
   "execution_count": 2,
   "id": "406d981e-8c27-4cea-a165-0edf4ff764cc",
   "metadata": {},
   "outputs": [
    {
     "data": {
      "text/plain": [
       "'Ans2.Follwing are four piller--\\n1.Abstraction.\\n2.Encapsulation.\\n3.Inheritance.\\n4.Polymorphism.\\n'"
      ]
     },
     "execution_count": 2,
     "metadata": {},
     "output_type": "execute_result"
    }
   ],
   "source": [
    "\n",
    "\"\"\"Q2. Name the four pillars of OOPs.\n",
    "\"\"\"\n",
    "\n",
    "\n",
    "\"\"\"Ans2.Follwing are four piller--\n",
    "1.Abstraction.\n",
    "2.Encapsulation.\n",
    "3.Inheritance.\n",
    "4.Polymorphism.\n",
    "\"\"\""
   ]
  },
  {
   "cell_type": "code",
   "execution_count": 3,
   "id": "eb1df10e-c7a2-461a-adbe-a9117070714c",
   "metadata": {},
   "outputs": [
    {
     "name": "stdout",
     "output_type": "stream",
     "text": [
      "101 Atul Tiwari 150000\n"
     ]
    }
   ],
   "source": [
    "'''Q3. Explain why the __init__() function is used. Give a suitable example.\n",
    "'''\n",
    "\n",
    "\"\"\"The Default __init__ Constructor in C++ and Java. Constructors are used to initializing the object’s state. The task of constructors is to initialize(assign values) to the data members of the class when an object of the class is created. Like methods, a constructor also contains a collection of statements(i.e. instructions) that are executed at the time of Object creation. It is run as soon as an object of a class is instantiated. The method is useful to do any initialization you want to do with your object.\"\"\"\n",
    "\n",
    "class Employee:\n",
    "    def __init__(self,name,emp_id,salary):\n",
    "        self.name=name\n",
    "        self.emp_id=emp_id\n",
    "        self.salary=salary\n",
    "    \n",
    "    def display(self):\n",
    "        print(self.emp_id,self.name,self.salary)\n",
    "e1=Employee(\"Atul Tiwari\",101,150000)\n",
    "e1.display()\n"
   ]
  },
  {
   "cell_type": "code",
   "execution_count": null,
   "id": "c8aa2493-8df7-4a66-b7a6-12cd406d09af",
   "metadata": {},
   "outputs": [
    {
     "data": {
      "text/plain": [
       "'\\nAns4.self represents the instance of the class. By using the “self”  we can access the attributes and methods of the class in python. It binds the attributes with the given arguments.\\n\\nThe reason you need to use self. is because Python does not use the @ syntax to refer to instance attributes.\\n\\nIt is not reserverd word in python its a naming conventional we can use any name.'"
      ]
     },
     "execution_count": 5,
     "metadata": {},
     "output_type": "execute_result"
    }
   ],
   "source": [
    "\n",
    "'''Q4. Why self is used in OOPs?\n",
    "'''\n",
    "\"\"\"\n",
    "Ans4.self represents the instance of the class. By using the “self”  we can access the attributes and methods of the class in python. It binds the attributes with the given arguments.\n",
    "\n",
    "The reason you need to use self. is because Python does not use the @ syntax to refer to instance attributes.\n",
    "\n",
    "It is not reserverd word in python its a naming conventional we can use any name.\"\"\""
   ]
  },
  {
   "cell_type": "code",
   "execution_count": 6,
   "id": "e311658d-aedf-4dc9-9e40-a717419a100a",
   "metadata": {},
   "outputs": [
    {
     "name": "stdout",
     "output_type": "stream",
     "text": [
      "100000\n",
      "Yamaha\n",
      "100000\n",
      "Yamaha\n",
      "50 Acre\n",
      "100\n",
      "Yamaha\n",
      "50 Acre\n",
      "This function is in parent class.\n",
      "This function is in child 1.\n",
      "This function is in parent class.\n",
      "This function is in child 2.\n",
      "This function is in school.\n",
      "This function is in student 1. \n"
     ]
    }
   ],
   "source": [
    "\n",
    "\"\"\"Q5. What is inheritance? Give an example for each type of inheritance.\n",
    "\"\"\"\n",
    "\"\"\"Ans--Inheritance allows us to define a class that inherits all the methods and properties from another class. Parent class is the class being inherited from, also called base class. Child class is the class that inherits from another class, also called derived class.\n",
    "\n",
    "Example of each inharritence--\n",
    "\"\"\"\n",
    "#1.single inheritance\n",
    "class Father:\n",
    "    def money(self):\n",
    "        return 100000\n",
    "class Child(Father):\n",
    "    def bike(self):\n",
    "        return \"Yamaha\"\n",
    "c=Child()\n",
    "print(c.money())\n",
    "print(c.bike())\n",
    "\n",
    "#2.multileval inheritaance\n",
    "class Grandfather:\n",
    "    def land(self):\n",
    "        return \"50 Acre\"\n",
    "    \n",
    "class Father(Grandfather):\n",
    "    def money(self):\n",
    "        return 100000\n",
    "\n",
    "class Child(Father):\n",
    "    def bike(self):\n",
    "        return \"Yamaha\"\n",
    "\n",
    "\n",
    "c=Child()\n",
    "print(c.money())\n",
    "print(c.bike())\n",
    "print(c.land())\n",
    "\n",
    "#3.Multiple inheritance\n",
    "\n",
    "\n",
    "class Grandfather:\n",
    "    def land(self):\n",
    "        return \"50 Acre\"\n",
    "    \n",
    "class Father:\n",
    "    def money(self):\n",
    "        return 100\n",
    "    \n",
    "    def land(self):\n",
    "        return \"50 Acre\"\n",
    "    \n",
    "\n",
    "class Child(Father,Grandfather):\n",
    "    def bike(self):\n",
    "        return \"Yamaha\"\n",
    "c=Child()\n",
    "print(c.money())\n",
    "print(c.bike())\n",
    "print(c.land())\n",
    "\n",
    "#4.Hierarchical inheritance\n",
    "\n",
    "class Parent:\n",
    "\tdef func1(self):\n",
    "\t\tprint(\"This function is in parent class.\")\n",
    "\n",
    "\n",
    "class Child1(Parent):\n",
    "\tdef func2(self):\n",
    "\t\tprint(\"This function is in child 1.\")\n",
    "\n",
    "\n",
    "\n",
    "class Child2(Parent):\n",
    "\tdef func3(self):\n",
    "\t\tprint(\"This function is in child 2.\")\n",
    "\n",
    "\n",
    "object1 = Child1()\n",
    "object2 = Child2()\n",
    "object1.func1()\n",
    "object1.func2()\n",
    "object2.func1()\n",
    "object2.func3()\n",
    "\n",
    "#5.Hybrid inheritence\n",
    "\n",
    "class School:\n",
    "\tdef func1(self):\n",
    "\t\tprint(\"This function is in school.\")\n",
    "\n",
    "\n",
    "class Student1(School):\n",
    "\tdef func2(self):\n",
    "\t\tprint(\"This function is in student 1. \")\n",
    "\n",
    "\n",
    "class Student2(School):\n",
    "\tdef func3(self):\n",
    "\t\tprint(\"This function is in student 2.\")\n",
    "\n",
    "\n",
    "class Student3(Student1, School):\n",
    "\tdef func4(self):\n",
    "\t\tprint(\"This function is in student 3.\")\n",
    "\n",
    "\n",
    "# Driver's code\n",
    "object = Student3()\n",
    "object.func1()\n",
    "object.func2()\n"
   ]
  },
  {
   "cell_type": "code",
   "execution_count": null,
   "id": "9a2b53d7-1cde-4373-9c85-cef3c08acec7",
   "metadata": {},
   "outputs": [],
   "source": []
  }
 ],
 "metadata": {
  "kernelspec": {
   "display_name": "Python 3 (ipykernel)",
   "language": "python",
   "name": "python3"
  },
  "language_info": {
   "codemirror_mode": {
    "name": "ipython",
    "version": 3
   },
   "file_extension": ".py",
   "mimetype": "text/x-python",
   "name": "python",
   "nbconvert_exporter": "python",
   "pygments_lexer": "ipython3",
   "version": "3.10.8"
  }
 },
 "nbformat": 4,
 "nbformat_minor": 5
}
