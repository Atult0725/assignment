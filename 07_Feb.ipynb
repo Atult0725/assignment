{
 "cells": [
  {
   "cell_type": "code",
   "execution_count": 1,
   "id": "975e9c84-1628-42d8-9838-f96e5399519b",
   "metadata": {},
   "outputs": [
    {
     "name": "stdin",
     "output_type": "stream",
     "text": [
      "please enter your password: aaAA1!@#asdfg\n"
     ]
    },
    {
     "name": "stdout",
     "output_type": "stream",
     "text": [
      "!\"#$%&'()*+,-./:;<=>?@[\\]^_`{|}~\n",
      "Valid Password\n"
     ]
    }
   ],
   "source": [
    "\n",
    "\"\"\"Q1. You are writing code for a company. The requirement of the company is that you create a python function that will check whether the password entered by the user is correct or not. The function should take the password as input and return the string “Valid Password” if the entered password follows the below-given password guidelines else it should return “Invalid Password”.\n",
    "Note: \n",
    "1. The Password should contain at least two uppercase letters and at least two lowercase letters.\n",
    "2. The Password should contain at least a number and three special character\n",
    "3. The length of the password should be 10 characters long.\n",
    "\"\"\"\n",
    "s=input(\"please enter your password:\")\n",
    "upper=0\n",
    "lower=0\n",
    "symbol=0\n",
    "digit=0\n",
    "\n",
    "import string\n",
    "punc=string.punctuation\n",
    "print(punc)\n",
    "for i in s:\n",
    "    if i.isupper():\n",
    "        upper+=1\n",
    "    elif i.islower():\n",
    "        lower+=1\n",
    "    elif i in punc:\n",
    "        symbol+=1\n",
    "    elif i.isdigit():\n",
    "        digit+=1\n",
    "if len(s)>=10:\n",
    "    if upper>1 and lower>1 and symbol>2 and digit>0:\n",
    "        print(\"Valid Password\")\n",
    "    else:\n",
    "        print(\"Invalid Password\")\n",
    "\n",
    "else:\n",
    "        print(\"Invalid Password\")"
   ]
  },
  {
   "cell_type": "code",
   "execution_count": 2,
   "id": "44786788-2ed1-486a-a6dc-754d45afbb38",
   "metadata": {},
   "outputs": [
    {
     "name": "stdin",
     "output_type": "stream",
     "text": [
      "Enter a string: sd\n"
     ]
    },
    {
     "name": "stdout",
     "output_type": "stream",
     "text": [
      "True\n",
      "False\n",
      "[('orange', 80), ('mango', 99), ('grapes', 1000)]\n",
      "[1, 4, 9, 16, 25, 36, 49, 64, 81, 100]\n",
      "[1.0, 1.2599210498948732, 1.4422495703074083, 1.5874010519681994, 1.7099759466766968, 1.8171205928321397, 1.912931182772389, 2.0, 2.080083823051904, 2.154434690031884]\n",
      "[2, 4, 6, 8, 10]\n",
      "[1, 3, 5, 7, 9]\n",
      "[0, 1, 2, 3, 4, 5, 6]\n",
      "[-5, -4, -3, -2, -1]\n"
     ]
    }
   ],
   "source": [
    "\n",
    "\"\"\"Q2. Solve the below-given questions using at least one of the following:\n",
    "\n",
    "Lambda functioJ\n",
    "Filter functioJ\n",
    "Map functioJ\n",
    "List ComprehensioI\n",
    "# Check if the string starts with a particular letter\n",
    "#Check if the string is numeric\n",
    "# Sort a list of tuples having fruit names and their quantity. [(\"mango\",99),(\"orange\",80), (\"grapes\", 1000)-\n",
    "#Find the squares of numbers from 1 to 10\n",
    "#Find the cube root of numbers from 1 to 10\n",
    "#Check if a given number is even\n",
    "#Filter odd numbers from the given list.\n",
    "[1,2,3,4,5,6,7,8,9,10]\n",
    "\n",
    "# Sort a list of integers into positive and negative integers lists.\n",
    "[1,2,3,4,5,6,-1,-2,-3,-4,-5,0]\n",
    "\n",
    "\"\"\"\n",
    "\n",
    "## Check if the string starts with a particular letter\n",
    "s=input(\"Enter a string:\")\n",
    "l=map(lambda x:x[0]==\"S\" or x[0]=='s',s)\n",
    "print(next(l))\n",
    "\n",
    "#Check if the string is numeric\n",
    "l=any(map(lambda x:x.isdigit(),s))\n",
    "print(l)\n",
    "\n",
    "# Sort a list of tuples having fruit names and their quantity. [(\"mango\",99),(\"orange\",80), (\"grapes\", 1000)-\n",
    "l= [(\"mango\",99),(\"orange\",80), (\"grapes\", 1000)]\n",
    "l=sorted(l,key=lambda x:x[1])\n",
    "print(l)\n",
    "\n",
    "#Find the squares of numbers from 1 to 10\n",
    "s=list(map(lambda x:x*x,[i for i in range(1,11)]))\n",
    "print(s)\n",
    "\n",
    "#Find the cube root of numbers from 1 to 10\n",
    "c=list(map(lambda x:x**(1/3),[i for i in range(1,11)]))\n",
    "print(c)\n",
    "\n",
    "##Check if a given number is even\n",
    "n=[1,2,3,4,5,6,7,8,9,10]\n",
    "l=list(filter(lambda x:x%2==0,n))\n",
    "print(l)\n",
    "\n",
    "##Check if a given number is even\n",
    "n=[1,2,3,4,5,6,7,8,9,10]\n",
    "l=list(filter(lambda x:x%2!=0,n))\n",
    "print(l)\n",
    "\n",
    "# Sort a list of integers into positive and negative integers lists.\n",
    "l=[1,2,3,4,5,6,-1,-2,-3,-4,-5,0]\n",
    "positive_list=sorted(filter(lambda x:x>-1,l))\n",
    "negative_list=sorted(filter(lambda x:x<0,l))\n",
    "print(positive_list)\n",
    "print(negative_list)"
   ]
  },
  {
   "cell_type": "code",
   "execution_count": null,
   "id": "13941204-ddd2-4a71-a583-9e87651ab3bd",
   "metadata": {},
   "outputs": [],
   "source": []
  }
 ],
 "metadata": {
  "kernelspec": {
   "display_name": "Python 3 (ipykernel)",
   "language": "python",
   "name": "python3"
  },
  "language_info": {
   "codemirror_mode": {
    "name": "ipython",
    "version": 3
   },
   "file_extension": ".py",
   "mimetype": "text/x-python",
   "name": "python",
   "nbconvert_exporter": "python",
   "pygments_lexer": "ipython3",
   "version": "3.10.8"
  }
 },
 "nbformat": 4,
 "nbformat_minor": 5
}
