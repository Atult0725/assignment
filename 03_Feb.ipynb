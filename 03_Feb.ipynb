{
 "cells": [
  {
   "cell_type": "code",
   "execution_count": 1,
   "id": "52c7d764-477e-4a31-b006-92c99c9b627a",
   "metadata": {},
   "outputs": [
    {
     "name": "stdout",
     "output_type": "stream",
     "text": [
      "[1, 3, 5, 7, 9, 11, 13, 15, 17, 19, 21, 23, 25]\n"
     ]
    }
   ],
   "source": [
    "'''Q1. Which keyword is used to create a function? Create a function to return a list of odd numbers in the\n",
    "range of 1 to 25.\n",
    "'''\n",
    "\n",
    "\n",
    "\"\"\"Ans--def is  a keyword used to create a function. \"\"\"\n",
    "\n",
    "def odd_num():\n",
    "    l=[i for i in range(1,26) if i%2!=0]\n",
    "    return l\n",
    "print(odd_num())\n"
   ]
  },
  {
   "cell_type": "code",
   "execution_count": 3,
   "id": "df1fc0bd-8eea-4e40-87e9-6032ea2e9779",
   "metadata": {},
   "outputs": [
    {
     "name": "stdout",
     "output_type": "stream",
     "text": [
      "60\n",
      "0\n",
      "550\n",
      "Name is Atul Tiwari\n",
      "Age is 26\n",
      "Email is atult0725@gmail.com\n",
      "Name is Sunny salunke\n",
      "Age is 28\n"
     ]
    }
   ],
   "source": [
    "\"\"\"Q2. Why *args and **kwargs is used in some functions? Create a function each for *args and **kwargs\n",
    "to demonstrate their use.\"\"\"\n",
    "\n",
    "''' Ans2.--> In Python, we can pass a variable number of arguments to a function using special symbols. There are two special symbols:\n",
    "\n",
    "*args (Non Keyword Arguments)\n",
    "**kwargs (Keyword Arguments)\n",
    "\n",
    "We use *args and **kwargs as an argument when we are unsure about the number of arguments to pass in the functions.\n",
    "\n",
    "\n",
    "'''\n",
    "#Example 1 for *args\n",
    "\n",
    "def add(*args):\n",
    "    sum=0\n",
    "    for i in args:\n",
    "        sum=sum+i\n",
    "    return sum\n",
    "print(add(20,30,10))\n",
    "print(add())\n",
    "print(add(10,20,30,40,50,60,70,80,90,100))\n",
    "\n",
    "#Example 2 for **kwargs\n",
    "def employee(**data):\n",
    "    for k,v in data.items():\n",
    "        print(f'{k} is {v}')\n",
    "employee(Name='Atul Tiwari',Age=26,Email='atult0725@gmail.com')\n",
    "employee(Name='Sunny salunke',Age=28)"
   ]
  },
  {
   "cell_type": "code",
   "execution_count": 4,
   "id": "35e94318-25f7-4ce8-9b79-dc16c1a0f5b5",
   "metadata": {},
   "outputs": [
    {
     "name": "stdout",
     "output_type": "stream",
     "text": [
      "2\n",
      "4\n",
      "6\n",
      "8\n",
      "10\n"
     ]
    }
   ],
   "source": [
    "\"\"\"Q3. What is an iterator in python? Name the method used to initialise the iterator object and the method\n",
    "used for iteration. Use these methods to print the first five elements of the given list [2, 4, 6, 8, 10, 12, 14,\n",
    "16, 18, 20].\n",
    "\"\"\"\n",
    "\n",
    "'''Ans3==>An iterator is an object that contains a countable number of values.\n",
    "\n",
    "An iterator is an object that can be iterated upon, meaning that you can traverse through all the values.\n",
    "\n",
    "Technically, in Python, an iterator is an object which implements the iterator protocol, which consist of the methods __iter__() and __next__().\n",
    "\n",
    "iter() method which is used to get an iterator:\n",
    "'''\n",
    "l= [2, 4, 6, 8, 10, 12, 14, 16, 18, 20]\n",
    "iterator=iter(l)\n",
    "print(next(iterator))\n",
    "print(next(iterator))\n",
    "print(next(iterator))\n",
    "print(next(iterator))\n",
    "print(next(iterator))"
   ]
  },
  {
   "cell_type": "code",
   "execution_count": 5,
   "id": "9262f288-807e-4ab2-956a-e611715767aa",
   "metadata": {},
   "outputs": [
    {
     "name": "stdout",
     "output_type": "stream",
     "text": [
      "Atul Tiwari\n",
      "Atult0725@gmail.com\n"
     ]
    }
   ],
   "source": [
    "\n",
    "\"\"\"Q4. What is a generator function in python? Why yield keyword is used? Give an example of a generator\n",
    "function.\"\"\"\n",
    "\n",
    "'''\n",
    "Ans4.-->Python Generator functions allow you to declare a function that behaves likes an iterator, allowing programmers to make an iterator in a fast, easy, and clean way. An iterator is an object that can be iterated or looped upon. It is used to abstract a container of data to make it behave like an iterable object. Examples of iterable objects that are used more commonly include lists, dictionaries, and strings.\n",
    "\n",
    "yield keyword is used to create a generator function. A type of function that is memory efficient and can be used like an iterator object.\n",
    "\n",
    "'''\n",
    "def generator():\n",
    "    yield 'Atul Tiwari'\n",
    "    yield 'Atult0725@gmail.com'\n",
    "g=generator()\n",
    "\n",
    "print(next(g))    \n",
    "print(next(g))    "
   ]
  },
  {
   "cell_type": "code",
   "execution_count": 6,
   "id": "e7f36610-2473-4355-a472-16b14ad1dfa7",
   "metadata": {},
   "outputs": [
    {
     "name": "stdout",
     "output_type": "stream",
     "text": [
      "2  3  5  7  11  13  17  19  23  29  31  37  41  43  47  53  59  61  67  71  "
     ]
    }
   ],
   "source": [
    "\n",
    "\"\"\"Q5. Create a generator function for prime numbers less than 1000. Use the next() method to print the\n",
    "first 20 prime numbers.\"\"\"\n",
    "\n",
    "def prime_num():\n",
    "    \n",
    "    for num in range(2,100):\n",
    "        count=0\n",
    "\n",
    "        for j in range(2,(num//2+1)):\n",
    "            if num%j==0:\n",
    "                count+=1\n",
    "        if count==0:\n",
    "            yield num\n",
    "        \n",
    "\n",
    "n=prime_num()\n",
    "for i in range(20):\n",
    "    print(next(n),end=\"  \")\n"
   ]
  },
  {
   "cell_type": "code",
   "execution_count": 7,
   "id": "853b6ec8-5d14-4062-8839-8e19ba90d146",
   "metadata": {},
   "outputs": [
    {
     "name": "stdout",
     "output_type": "stream",
     "text": [
      "0\n",
      "1\n",
      "1\n",
      "2\n",
      "3\n",
      "5\n",
      "8\n",
      "13\n",
      "21\n",
      "34\n"
     ]
    }
   ],
   "source": [
    "\n",
    "\"\"\"Q6. Write a python program to print the first 10 Fibonacci numbers using a while loop.\n",
    "\"\"\"\n",
    "n=10\n",
    "count=0\n",
    "a,b=0,1\n",
    "while count < n:\n",
    "       print(a)\n",
    "       c = a + b\n",
    "       # update values\n",
    "       a=b\n",
    "       b=c\n",
    "       count += 1"
   ]
  },
  {
   "cell_type": "code",
   "execution_count": 8,
   "id": "af5f0538-14dc-49df-98ec-7f56ea091350",
   "metadata": {},
   "outputs": [
    {
     "name": "stdout",
     "output_type": "stream",
     "text": [
      "['p', 'w', 's', 'k', 'i', 'l', 'l', 's']\n"
     ]
    }
   ],
   "source": [
    "\"\"\"Q7. Write a List Comprehension to iterate through the given string: ‘pwskills’.\n",
    "\n",
    "Expected output: ['p', 'w', 's', 'k', 'i', 'l', 'l', 's']\"\"\"\n",
    "\n",
    "s='pwskills'\n",
    "l=[i for i in s]\n",
    "print(l)\n"
   ]
  },
  {
   "cell_type": "code",
   "execution_count": null,
   "id": "c4078741-27ae-4dc8-a202-a893b42e0847",
   "metadata": {},
   "outputs": [],
   "source": [
    "\"\"\"Q8. Write a python program to check whether a given number is Palindrome or not using a while loop.\n",
    "\"\"\"\n",
    "s=input(\"Enter a number:\")\n",
    "c=(len(s)-1)\n",
    "rev=''\n",
    "while c>-1:\n",
    "   rev=rev+s[c]\n",
    "   c=c-1\n",
    "if s==rev:\n",
    "   print(\"given number is a Palindrome\")\n",
    "else:\n",
    "    print(\"Given number is not Palindrom\")"
   ]
  },
  {
   "cell_type": "code",
   "execution_count": null,
   "id": "13f19732-4e22-4131-a17a-a628682f7c0a",
   "metadata": {
    "jupyter": {
     "source_hidden": true
    },
    "tags": []
   },
   "outputs": [],
   "source": [
    "\"\"\"Q9. Write a code to print odd numbers from 1 to 100 using list comprehension.\n",
    "\"\"\"\n",
    "\n",
    "odd=[i for i in range(1,101) if i%2!=0]\n",
    "print(odd)"
   ]
  },
  {
   "cell_type": "code",
   "execution_count": null,
   "id": "bdcde8a7-7c88-433a-a422-a9527335d47a",
   "metadata": {},
   "outputs": [],
   "source": [
    "\"\"\"Q9. Write a code to print odd numbers from 1 to 100 using list comprehension.\n",
    "\"\"\"\n",
    "\n",
    "odd=[i for i in range(1,101) if i%2!=0]\n",
    "print(odd)"
   ]
  }
 ],
 "metadata": {
  "kernelspec": {
   "display_name": "Python 3 (ipykernel)",
   "language": "python",
   "name": "python3"
  },
  "language_info": {
   "codemirror_mode": {
    "name": "ipython",
    "version": 3
   },
   "file_extension": ".py",
   "mimetype": "text/x-python",
   "name": "python",
   "nbconvert_exporter": "python",
   "pygments_lexer": "ipython3",
   "version": "3.10.8"
  }
 },
 "nbformat": 4,
 "nbformat_minor": 5
}
