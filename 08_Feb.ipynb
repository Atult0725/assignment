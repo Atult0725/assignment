{
 "cells": [
  {
   "cell_type": "code",
   "execution_count": 1,
   "id": "a0217eac-211b-4884-9d93-911b4ceafb51",
   "metadata": {},
   "outputs": [
    {
     "name": "stdout",
     "output_type": "stream",
     "text": [
      "The mileage is 30kmph\n",
      "The mileage is 27kmph \n",
      "The mileage is 25kmph \n",
      "The mileage is 24kmph \n"
     ]
    }
   ],
   "source": [
    "\"\"\"Q1. What is Abstraction in OOps? Explain with an example.\n",
    "\"\"\"\n",
    "\n",
    "\"\"\"Abstraction is used to hide the internal functionality of the function from the users. The users only interact with the basic implementation of the function, but inner working is hidden. User is familiar with that \"what function does\" but they don't know \"how it does.\"\"\"\n",
    "from abc import ABC, abstractmethod   \n",
    "class Car(ABC):   \n",
    "    @abstractmethod \n",
    "    def mileage(self):   \n",
    "        pass  \n",
    "  \n",
    "class Tesla(Car):   \n",
    "    def mileage(self):   \n",
    "        print(\"The mileage is 30kmph\")   \n",
    "class Suzuki(Car):   \n",
    "    def mileage(self):   \n",
    "        print(\"The mileage is 25kmph \")   \n",
    "class Duster(Car):   \n",
    "     def mileage(self):   \n",
    "          print(\"The mileage is 24kmph \")   \n",
    "  \n",
    "class Renault(Car):   \n",
    "    def mileage(self):   \n",
    "            print(\"The mileage is 27kmph \")   \n",
    "          \n",
    "# Driver code   \n",
    "t= Tesla ()   \n",
    "t.mileage()   \n",
    "  \n",
    "r = Renault()   \n",
    "r.mileage()   \n",
    "  \n",
    "s = Suzuki()   \n",
    "s.mileage()   \n",
    "d = Duster()   \n",
    "d.mileage()  \n"
   ]
  },
  {
   "cell_type": "code",
   "execution_count": 3,
   "id": "f8e80e9e-984c-4648-8f4e-092a89102eeb",
   "metadata": {},
   "outputs": [
    {
     "name": "stdout",
     "output_type": "stream",
     "text": [
      "The mileage is 22 kmph\n",
      "The mileage is Maruthi\n",
      "('Maruthi', 300000, 32) Before setting a new milage\n",
      "\n",
      "('Maruthi', 300000, 40) After setting a new milage\n"
     ]
    },
    {
     "data": {
      "text/plain": [
       "('Maruthi', 300000, 40)"
      ]
     },
     "execution_count": 3,
     "metadata": {},
     "output_type": "execute_result"
    }
   ],
   "source": [
    "\"\"\"Q2. Differentiate between Abstraction and Encapsulation. Explain with an example\n",
    "ANS\n",
    "i). Abstraction shows only useful data by providing the most necessary details, whereas Encapsulation wraps code and data for necessary information.\n",
    "ii). Abstraction is focused mainly on what should be done, while Encapsulation is focused on how it should be done.\n",
    "iii). Abstraction hides complexity by giving you a more abstract picture, while Encapsulation hides internal work so that you can change it later.\n",
    "iv). Abstraction helps you to partition the program into many independent portions, whereas Encapsulation is easy to change with new requirements.\n",
    "v).Comparing Encapsulation vs Abstraction, Abstraction solves problems at the design level while Encapsulation solves problems at the implementation level.\n",
    "vi).Abstraction hides the irrelevant details found in the code, whereas Encapsulation helps developers to organize the entire code easily.\n",
    "\"\"\"\n",
    "# abstract\n",
    "\n",
    "from abc import ABC, abstractmethod   \n",
    "class Car1(ABC): \n",
    "    @abstractmethod\n",
    "    def mileage(self):   \n",
    "        pass  \n",
    "    def name(self):\n",
    "        pass\n",
    "  \n",
    "class Maruthi(Car1):   \n",
    "    def mileage(self):   \n",
    "        return(\"The mileage is 22 kmph\")\n",
    "    def name(self):   \n",
    "        return(\"The mileage is Maruthi\")\n",
    "#c=Car1()\n",
    "        \n",
    "       \n",
    "T=Maruthi()\n",
    "print(T.mileage())\n",
    "print(T.name())\n",
    "#encapsulation\n",
    "\n",
    "class Car1:\n",
    "    def __init__(self, name, cost, milage):\n",
    "        self.__milage=milage\n",
    "        self.__name=name\n",
    "        self.__cost=cost\n",
    "    def get_details(self): # getter\n",
    "        return(self.__name, self.__cost, self.__milage)\n",
    "    def set_milage(self,new_milage): # setter\n",
    "        self.__milage=new_milage\n",
    "        \n",
    "c1= Car1(\"Maruthi\", 300000, 32)  \n",
    "print(c1.get_details(), \"Before setting a new milage\") # we cant change directly any parameter\n",
    "\n",
    "# to change parameter we need to create one setter\n",
    "c1.set_milage(40)\n",
    "print()\n",
    "print(c1.get_details(), \"After setting a new milage\")\n",
    "\n",
    "    \n",
    "('Maruthi', 300000, 32) #Before setting a new milage\n",
    "\n",
    "('Maruthi', 300000, 40) #After setting a new milage\n"
   ]
  },
  {
   "cell_type": "code",
   "execution_count": null,
   "id": "d6fc9058-4088-4201-b17f-ab503d1e7e44",
   "metadata": {},
   "outputs": [],
   "source": [
    "\"\"\"Q3. What is abc module in python? Why is it used?\n",
    "\n",
    "Ans-The 'abc' module in Python library provides the infrastructure for defining custom abstract base classes. 'abc' works by marking methods of the base class as abstract. This is done by @absttractmethod decorator.\n",
    "It is use to make a method as this module provides the infrastructure for defining abstract base classes (ABCs) in Python,\"\"\"\n",
    "\n",
    "\n"
   ]
  },
  {
   "cell_type": "code",
   "execution_count": null,
   "id": "08a70086-69a4-4fc1-9e16-16444f6fc3c4",
   "metadata": {},
   "outputs": [],
   "source": [
    "\"\"\"Q4. How can we achieve data abstraction?\n",
    "ANS\n",
    "Data abstraction in Python can be done using the following methods: - Using list comprehensions to transform multiple values into a single value - Using map function to transform multiple values into an array - Using filter function to transform only those items that meet certain criteria - Using reduce function to combine two or more items into a single value Abstractions allow developers to write code without worrying about how the code will be executed on the computer\n",
    "\n",
    "\"\"\"\n"
   ]
  },
  {
   "cell_type": "code",
   "execution_count": 6,
   "id": "d41c8386-93e5-4529-822d-54c2b4179f97",
   "metadata": {},
   "outputs": [],
   "source": [
    "\"\"\"\n",
    "Q5. Can we create an instance of an abstract class? Explain your answer in python\n",
    "ANS:\n",
    "the abstract class can’t be instantiated, as these abstract classs will have some incomplete methods, so we can't creat an object of an abstract class\n",
    "\n",
    "if we try to create it will give an error like below-\n",
    "\n",
    "TypeError: Can't instantiate abstract class Car_x with abstract method mileage\n",
    "\"\"\"\n",
    "\n",
    "from abc import ABC, abstractmethod   \n",
    "class Car_x(ABC): \n",
    "    @abstractmethod\n",
    "    def mileage(self):   \n",
    "        pass  \n",
    "    def name(self):\n",
    "        pass\n",
    "\n",
    "#c3=Car_x() #TypeError: Can't instantiate abstract class Car_x with abstract method mileage\n",
    " \n"
   ]
  },
  {
   "cell_type": "code",
   "execution_count": null,
   "id": "ecb4bf67-502c-4492-8337-b651ecc8aa3b",
   "metadata": {},
   "outputs": [],
   "source": []
  }
 ],
 "metadata": {
  "kernelspec": {
   "display_name": "Python 3 (ipykernel)",
   "language": "python",
   "name": "python3"
  },
  "language_info": {
   "codemirror_mode": {
    "name": "ipython",
    "version": 3
   },
   "file_extension": ".py",
   "mimetype": "text/x-python",
   "name": "python",
   "nbconvert_exporter": "python",
   "pygments_lexer": "ipython3",
   "version": "3.10.8"
  }
 },
 "nbformat": 4,
 "nbformat_minor": 5
}
