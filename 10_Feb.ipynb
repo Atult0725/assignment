{
 "cells": [
  {
   "cell_type": "code",
   "execution_count": 1,
   "id": "e2f328f5-9adb-4802-949d-26cca7bef0d1",
   "metadata": {},
   "outputs": [
    {
     "data": {
      "text/plain": [
       "'Q1.Which function is used to open a file? What are the different modes of opening a file? Explain each mode\\nof file opening.\\n\\nAns-->In Python, we use the open() method to open files.\\nex- file1 = open(\"test.txt\")\\n\\nMode\\t Description\\n\\nr\\t    Open a file for reading. (default)\\nw\\t    Open a file for writing. Creates a new file if it does not exist or truncates the file if it exists.\\nx\\t    Open a file for exclusive creation. If the file already exists, the operation fails.\\na\\t    Open a file for appending at the end of the file without truncating it. Creates a new file if it does not exist.\\nt\\t    Open in text mode. (default)\\nb\\t    Open in binary mode.\\n+\\t    Open a file for updating (reading and writing)\\n\\nHere\\'s few simple examples of how to open a file in different modes,\\n\\nfile1 = open(\"test.txt\")      # equivalent to \\'r\\' or \\'rt\\'\\nfile1 = open(\"test.txt\",\\'w\\')  # write in text mode\\nfile1 = open(\"img.bmp\",\\'r+b\\')\\nfile1 = open(\"text.txt\",\\'x\\')\\nfile1 = open(\"text.txt\",\\'a\\')\\nfile1 = open(\"text.txt\",\\'t\\')\\nfile1 = open(\"text.txt\",\\'w+\\')\\n\\n'"
      ]
     },
     "execution_count": 1,
     "metadata": {},
     "output_type": "execute_result"
    }
   ],
   "source": [
    "\"\"\"Q1.Which function is used to open a file? What are the different modes of opening a file? Explain each mode\n",
    "of file opening.\n",
    "\n",
    "Ans-->In Python, we use the open() method to open files.\n",
    "ex- file1 = open(\"test.txt\")\n",
    "\n",
    "Mode\t Description\n",
    "\n",
    "r\t    Open a file for reading. (default)\n",
    "w\t    Open a file for writing. Creates a new file if it does not exist or truncates the file if it exists.\n",
    "x\t    Open a file for exclusive creation. If the file already exists, the operation fails.\n",
    "a\t    Open a file for appending at the end of the file without truncating it. Creates a new file if it does not exist.\n",
    "t\t    Open in text mode. (default)\n",
    "b\t    Open in binary mode.\n",
    "+\t    Open a file for updating (reading and writing)\n",
    "\n",
    "Here's few simple examples of how to open a file in different modes,\n",
    "\n",
    "file1 = open(\"test.txt\")      # equivalent to 'r' or 'rt'\n",
    "file1 = open(\"test.txt\",'w')  # write in text mode\n",
    "file1 = open(\"img.bmp\",'r+b')\n",
    "file1 = open(\"text.txt\",'x')\n",
    "file1 = open(\"text.txt\",'a')\n",
    "file1 = open(\"text.txt\",'t')\n",
    "file1 = open(\"text.txt\",'w+')\n",
    "\n",
    "\"\"\"\n",
    "\n"
   ]
  },
  {
   "cell_type": "code",
   "execution_count": null,
   "id": "771b810b-7f5a-4cc4-be34-cc4b65130f98",
   "metadata": {},
   "outputs": [],
   "source": [
    "\n",
    "'''\n",
    "Q2. Why close() function is used? Why is it important to close a file?\n",
    "\n",
    "\n",
    "Ans-When we are done with performing operations on the file, we need to properly close the file.\n",
    "\n",
    "Closing a file will free up the resources that were tied with the file. It is done using the close() method in Python. For example,\n",
    "\n",
    "# open a file\n",
    "\n",
    "'''\n",
    "#open a file\n",
    "file1 = open(\"test.txt\", \"r\")\n",
    "\n",
    "# read the file\n",
    "read_content = file1.read()\n",
    "print(read_content)\n",
    "\n",
    "# close the file\n",
    "file1.close()\n",
    "\n",
    "'''Here, we have used the close() method to close the file.\n",
    "\n",
    "After we perform file operation, we should always close the file; it's a good programming practice.'''\n",
    "\n",
    "\n"
   ]
  },
  {
   "cell_type": "code",
   "execution_count": 3,
   "id": "639af881-73a9-4b01-83f7-473aee235ceb",
   "metadata": {},
   "outputs": [
    {
     "name": "stdout",
     "output_type": "stream",
     "text": [
      "I want to become a Data Scientist\n"
     ]
    }
   ],
   "source": [
    "'''Q3. Write a python program to create a text file. Write ‘I want to become a Data Scientist’ in that file. Then\n",
    "close the file. Open this file and read the content of the file. '''\n",
    "\n",
    "f=open(\"abc.txt\",\"w\")\n",
    "f.write(\"I want to become a Data Scientist\")\n",
    "f.close()\n",
    "\n",
    "f=open(\"abc.txt\",'r')\n",
    "r=f.read()\n",
    "print(r)\n",
    "\n"
   ]
  },
  {
   "cell_type": "code",
   "execution_count": 4,
   "id": "0c013096-3cf1-4ca0-9596-56e4bc7152c0",
   "metadata": {},
   "outputs": [
    {
     "name": "stdout",
     "output_type": "stream",
     "text": [
      "A file is a container in computer storage devices used for storing data.\n",
      "\n",
      "When we want to read from or write to a file, we need to open it first. When we are done, it needs to be closed so that the resources that are tied with the file are freed.\n",
      "\n",
      "Hence, in Python, a file operation takes place in the following order:\n",
      "\n",
      "1.Open a file\n",
      "2.Read or write (perform operation)\n",
      "3.Close the file\n",
      "\n",
      "\n",
      "[]\n"
     ]
    }
   ],
   "source": [
    "'''Q4. Explain the following with python code: read(), readline() and readlines().\n",
    "Ans-->read()--Read all characters from the file, Reads till end of file if it is negative or None.\n",
    "    readline()--Reads and returns one line from the file.\n",
    "    readlines()--Reads and returns a list of lines from the file. \n",
    "'''\n",
    "f=open('abc.txt','w')\n",
    "f.write('''A file is a container in computer storage devices used for storing data.\n",
    "\n",
    "When we want to read from or write to a file, we need to open it first. When we are done, it needs to be closed so that the resources that are tied with the file are freed.\n",
    "\n",
    "Hence, in Python, a file operation takes place in the following order:\n",
    "\n",
    "1.Open a file\n",
    "2.Read or write (perform operation)\n",
    "3.Close the file\n",
    "''')\n",
    "\n",
    "f.close()\n",
    "\n",
    "f=open('abc.txt','r')\n",
    "\n",
    "read=f.read()\n",
    "print(read)\n",
    "\n",
    "read_line=f.readline()\n",
    "print(read_line)\n",
    "\n",
    "read_lines=f.readlines()\n",
    "print(read_lines)\n",
    "\n",
    "f.close()\n"
   ]
  },
  {
   "cell_type": "code",
   "execution_count": 5,
   "id": "15eceb9e-412a-4349-81b0-58b90aad887e",
   "metadata": {},
   "outputs": [],
   "source": [
    "\"\"\"Q5. Explain why with statement is used with open(). What is the advantage of using with statement and\n",
    "open() together?\n",
    "\n",
    "Ans--In Python, you can access a file by using the open() method. However, using the open() method directly requires you to use the close() method to close the file explicitly. Instead, you can create a context using the with Open statement in python. It returns a file object, which has methods and attributes for getting information about and manipulating the opened file.\n",
    "\n",
    "With the “With” statement, you get better syntax and exception handling.\n",
    "\n",
    "“The with statement simplifies exception handling by encapsulating common preparation and cleanup tasks.”\n",
    "\n",
    "You are here: Home / Files / With Open Statement in Python\n",
    "With Open Statement in Python\n",
    "Author: PFB Staff Writer\n",
    "Last Updated: December 28, 2022\n",
    "\n",
    "In Python, you can access a file by using the open() method. However, using the open() method directly requires you to use the close() method to close the file explicitly. Instead, you can create a context using the with Open statement in python. It returns a file object, which has methods and attributes for getting information about and manipulating the opened file.\n",
    "\n",
    "Table of Contents\n",
    "The With Statement in Python\n",
    "With Statement Usage with Open() Function in Python\n",
    "Conclusion\n",
    "The With Statement in Python\n",
    "With the “With” statement, you get better syntax and exception handling.\n",
    "\n",
    "Latest Videos\n",
    "“The with statement simplifies exception handling by encapsulating common preparation and cleanup tasks.”\n",
    "\n",
    "\n",
    "In addition, it will automatically close the file. The with statement provides a way for ensuring that a clean-up is always used.\n",
    "\n",
    "Ex-\n",
    "\"\"\"\n",
    "with open('abc.txt','r') as f:\n",
    "    f.read()\n",
    "\n"
   ]
  },
  {
   "cell_type": "code",
   "execution_count": 6,
   "id": "376a7370-88b1-42bb-8842-0cfdb98c256f",
   "metadata": {},
   "outputs": [],
   "source": [
    "\"\"\"Q6. Explain the write() and writelines() functions. Give a suitable example.\n",
    "\n",
    "\"\"\"\n",
    "#1.'write()'- The 'write()' function writes string to a file.\n",
    "    \n",
    "  #  For example:\n",
    "                  #open the file in write mode\n",
    "file = open(\"my_file.txt\", \"w\")\n",
    "\n",
    "#write to the file\n",
    "file.write(\"I want to become a Data Scientist\")\n",
    "\n",
    "#close the file\n",
    "file.close()\n",
    "        \n",
    " #   2.'writelines()'- The 'writelines()' function writes a list of string to a file.\n",
    "    \n",
    "#for example:\n",
    "\n",
    "#open the file in write mode\n",
    "file = open(\"my_file.txt\", \"w\")\n",
    "\n",
    "#write a list of string to the file\n",
    "lines = [\"Line 1\", \"Line 2\" , \"Line 3\"]\n",
    "file.writelines(lines)\n",
    "\n",
    "#close the file\n",
    "file.close()"
   ]
  },
  {
   "cell_type": "code",
   "execution_count": null,
   "id": "b52e19ed-e250-4827-9440-9cc2a04c17a9",
   "metadata": {},
   "outputs": [],
   "source": []
  }
 ],
 "metadata": {
  "kernelspec": {
   "display_name": "Python 3 (ipykernel)",
   "language": "python",
   "name": "python3"
  },
  "language_info": {
   "codemirror_mode": {
    "name": "ipython",
    "version": 3
   },
   "file_extension": ".py",
   "mimetype": "text/x-python",
   "name": "python",
   "nbconvert_exporter": "python",
   "pygments_lexer": "ipython3",
   "version": "3.10.8"
  }
 },
 "nbformat": 4,
 "nbformat_minor": 5
}
