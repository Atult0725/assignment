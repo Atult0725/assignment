{
 "cells": [
  {
   "cell_type": "code",
   "execution_count": 1,
   "id": "4913c6b9-3445-4e1f-bcb9-f32e305752f8",
   "metadata": {},
   "outputs": [
    {
     "name": "stdout",
     "output_type": "stream",
     "text": [
      "Car\n",
      "60\n",
      "120\n"
     ]
    }
   ],
   "source": [
    "'''1.Create a vehicle class with an init method having instance variable as name_of_vehicle,max_speed and average_of_vehicle.\n",
    "'''\n",
    "\n",
    "class Vehicle:\n",
    "    def __init__(self,name_of_vehicle,max_speed,average_of_vehicle):\n",
    "        self.name_of_vehicle=name_of_vehicle\n",
    "        self.max_speed=max_speed\n",
    "        self.average_of_vehicle=average_of_vehicle\n",
    "car=Vehicle(\"Car\",120,60)\n",
    "print(car.name_of_vehicle)\n",
    "print(car.average_of_vehicle)\n",
    "print(car.max_speed)\n"
   ]
  },
  {
   "cell_type": "code",
   "execution_count": 2,
   "id": "3f3088de-a277-4bfc-8e84-873a469f4a32",
   "metadata": {},
   "outputs": [
    {
     "name": "stdout",
     "output_type": "stream",
     "text": [
      "Name of vehical is,Maruti and its seat capicity is 7\n"
     ]
    }
   ],
   "source": [
    "\"\"\"2.Create a child class car from the vehicle class created in Que 1, which will inherit the vehicle class.\n",
    "Create a method named seating_capacity which takes capacity as an argument and returns the name of the vehicle and its seating capacity.\n",
    "\n",
    "\"\"\"\n",
    "class Car(Vehicle):\n",
    "    def seating_capicity(self,capicity):\n",
    "        self.capicity=capicity\n",
    "        return f\"Name of vehical is,{self.name_of_vehicle} and its seat capicity is {self.capicity}\"\n",
    "c=Car(\"Maruti\",120,70)\n",
    "print(c.seating_capicity(7))\n",
    "\n"
   ]
  },
  {
   "cell_type": "code",
   "execution_count": 3,
   "id": "ccdc2f75-b7e2-44ef-92ff-2032989599e5",
   "metadata": {},
   "outputs": [
    {
     "name": "stdout",
     "output_type": "stream",
     "text": [
      "Yamaha\n",
      "Tata Alto\n",
      "55 Acre\n",
      "16000\n"
     ]
    }
   ],
   "source": [
    "\n",
    "\"\"\"\n",
    "Q3.Q3. What is multiple inheritance? Write a python code to demonstrate multiple inheritance.\n",
    "\n",
    "Ans--When a class is derived from more than one base class it is called multiple Inheritance. The derived class inherits all the features of the base case.\n",
    "\n",
    "\"\"\"\n",
    "\n",
    "class Father:\n",
    "    def money(self):\n",
    "        return 12000\n",
    "    def car(self):\n",
    "        return \"Maruti WagonR \"\n",
    "    def land(self):\n",
    "        return '55 Acre'\n",
    "class Mother:\n",
    "    def car(Self):\n",
    "        return 'Tata Alto'\n",
    "    def money(self):\n",
    "        return 16000\n",
    "class Son(Mother,Father):\n",
    "    def bike(self):\n",
    "        return \"Yamaha\"\n",
    "s=Son()\n",
    "print(s.bike())\n",
    "print(s.car())\n",
    "print(s.land())\n",
    "print(s.money())\n",
    "\n"
   ]
  },
  {
   "cell_type": "code",
   "execution_count": 4,
   "id": "dddb5b8b-e146-48c0-acf7-05f98df4dd89",
   "metadata": {},
   "outputs": [],
   "source": [
    "\"\"\"Q4. What are getter and setter in python? Create a class and create a getter and a setter method in this\n",
    "class\n",
    "\n",
    "Ans==>Getters: These are the methods used in Object-Oriented Programming (OOPS) which helps to access the private attributes from a class.\n",
    "\n",
    "Setters: These are the methods used in OOPS feature which helps to set the value to private attributes in a class\n",
    "\"\"\"\n",
    "class Property:\n",
    "\n",
    "    def __init__(self, var):\n",
    "        ## initializing the attribute\n",
    "        self.a = var\n",
    "\n",
    "    @property\n",
    "    def a(self):\n",
    "        return self.__a\n",
    "\n",
    "    ## the attribute name and the method name must be same which is used to set the value for the attribute\n",
    "    @a.setter\n",
    "    def a(self, var):\n",
    "        if var > 0 and var % 2 == 0:\n",
    "            self.__a = var\n",
    "        else:\n",
    "            self.__a = 2\n",
    "\n"
   ]
  },
  {
   "cell_type": "code",
   "execution_count": 5,
   "id": "aeccced3-1421-427e-8853-a7034ccb8736",
   "metadata": {},
   "outputs": [
    {
     "name": "stdout",
     "output_type": "stream",
     "text": [
      "75000\n",
      "Maruti Swift dezire\n"
     ]
    }
   ],
   "source": [
    "\"\"\"Q5.What is method overriding in python? Write a python code to demonstrate method overriding.\n",
    "\n",
    "Ans- Method overriding is a feature of object-oriented programming languages where a subclass can provide a new implementation of a method that is already defined in its parent class. The new implementation in the subclass will override the behaviour of the method in the parent class. This allows a subclass to inherits the attributes and methods of its parent class. This aalows a subclass to inherits the zttributes and methods of its parent class and then customize their behaviour as needed.\n",
    "\n",
    "\"\"\"\n",
    "\n",
    "class Father:\n",
    "    def Car(self):\n",
    "        return \"Tata alto\"        \n",
    "    def Money(self):\n",
    "        return '75000'\n",
    "    \n",
    "class Son(Father):\n",
    "    def Car(self):\n",
    "        return \"Maruti Swift dezire\"\n",
    "c=Son()\n",
    "print(c.Money())\n",
    "print(c.Car())\n"
   ]
  },
  {
   "cell_type": "code",
   "execution_count": null,
   "id": "5667a068-7587-45b6-92a4-81d6e08961fa",
   "metadata": {},
   "outputs": [],
   "source": []
  }
 ],
 "metadata": {
  "kernelspec": {
   "display_name": "Python 3 (ipykernel)",
   "language": "python",
   "name": "python3"
  },
  "language_info": {
   "codemirror_mode": {
    "name": "ipython",
    "version": 3
   },
   "file_extension": ".py",
   "mimetype": "text/x-python",
   "name": "python",
   "nbconvert_exporter": "python",
   "pygments_lexer": "ipython3",
   "version": "3.10.8"
  }
 },
 "nbformat": 4,
 "nbformat_minor": 5
}
